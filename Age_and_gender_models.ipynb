{
 "cells": [
  {
   "cell_type": "code",
   "execution_count": null,
   "metadata": {
    "id": "tSArrhZWyNbS"
   },
   "outputs": [],
   "source": [
    "# importing libraries\n",
    "import os\n",
    "from google.colab.patches import cv2_imshow\n",
    "import cv2\n",
    "import pandas as pd\n",
    "import numpy as np\n",
    "import seaborn as sns\n",
    "from tensorflow.keras.applications.vgg16 import VGG16\n",
    "from tensorflow.keras.applications import ResNet101,VGG19\n",
    "from tensorflow.keras.layers import Dense,Dropout,Input,Flatten,BatchNormalization ,Activation,Conv2D,MaxPooling2D\n",
    "import tensorflow as tf\n",
    "from tqdm import tqdm\n",
    "import tensorflow.keras.backend as K\n",
    "from tensorflow.keras.models import Model, Sequential\n",
    "from tensorflow.keras.preprocessing.image import ImageDataGenerator\n",
    "from tensorflow.keras.callbacks import ReduceLROnPlateau, ModelCheckpoint, EarlyStopping\n",
    "from sklearn.model_selection import train_test_split\n",
    "import matplotlib.pyplot as plt"
   ]
  },
  {
   "cell_type": "markdown",
   "metadata": {},
   "source": [
    "#### Downloading data from kaggle to local environment"
   ]
  },
  {
   "cell_type": "code",
   "execution_count": null,
   "metadata": {
    "id": "YMWU4dEAy5Tw"
   },
   "outputs": [],
   "source": [
    "os.environ['KAGGLE_USERNAME'] = \"xxxx\" \n",
    "os.environ['KAGGLE_KEY'] = \"xxxx\" "
   ]
  },
  {
   "cell_type": "code",
   "execution_count": null,
   "metadata": {
    "colab": {
     "base_uri": "https://localhost:8080/"
    },
    "id": "vm3dKk8Qz8IF",
    "outputId": "f684c8fb-fb24-4111-9a90-ed309eb04414"
   },
   "outputs": [
    {
     "name": "stdout",
     "output_type": "stream",
     "text": [
      "Downloading age-gender-and-ethnicity-face-data-csv.zip to /content\n",
      " 77% 49.0M/63.2M [00:03<00:01, 11.7MB/s]\n",
      "100% 63.2M/63.2M [00:03<00:00, 20.6MB/s]\n"
     ]
    }
   ],
   "source": [
    "!kaggle datasets download -d nipunarora8/age-gender-and-ethnicity-face-data-csv"
   ]
  },
  {
   "cell_type": "code",
   "execution_count": null,
   "metadata": {
    "colab": {
     "base_uri": "https://localhost:8080/"
    },
    "id": "Q0jlIH5R0GuP",
    "outputId": "2e4edd7f-c6fb-4ed4-8bc6-8feaf44afa01"
   },
   "outputs": [
    {
     "name": "stdout",
     "output_type": "stream",
     "text": [
      "Archive:  age-gender-and-ethnicity-face-data-csv.zip\n",
      "  inflating: age_gender.csv          \n"
     ]
    }
   ],
   "source": [
    "!unzip 'age-gender-and-ethnicity-face-data-csv.zip'"
   ]
  },
  {
   "cell_type": "code",
   "execution_count": null,
   "metadata": {
    "id": "R42Duh5q0Ki5"
   },
   "outputs": [],
   "source": [
    "df = pd.read_csv('age_gender.csv')"
   ]
  },
  {
   "cell_type": "code",
   "execution_count": null,
   "metadata": {
    "colab": {
     "base_uri": "https://localhost:8080/"
    },
    "id": "qeXk4gEV0Wif",
    "outputId": "084b2f51-b237-4034-c52a-b06415667156"
   },
   "outputs": [
    {
     "data": {
      "text/plain": [
       "Index(['age', 'ethnicity', 'gender', 'img_name', 'pixels'], dtype='object')"
      ]
     },
     "execution_count": 7,
     "metadata": {
      "tags": []
     },
     "output_type": "execute_result"
    }
   ],
   "source": [
    "df.columns"
   ]
  },
  {
   "cell_type": "markdown",
   "metadata": {
    "id": "QdHknerFoMee"
   },
   "source": [
    "# Gender model"
   ]
  },
  {
   "cell_type": "code",
   "execution_count": null,
   "metadata": {
    "colab": {
     "base_uri": "https://localhost:8080/"
    },
    "id": "Wt1aYgAF0Y_B",
    "outputId": "048ce81d-0f00-4896-bc9b-ea6ed30a5237"
   },
   "outputs": [
    {
     "data": {
      "text/plain": [
       "array([0, 1])"
      ]
     },
     "execution_count": 8,
     "metadata": {
      "tags": []
     },
     "output_type": "execute_result"
    }
   ],
   "source": [
    "gender_df = df[['gender','pixels']]\n",
    "gender_df['gender'].unique()"
   ]
  },
  {
   "cell_type": "code",
   "execution_count": null,
   "metadata": {
    "colab": {
     "base_uri": "https://localhost:8080/"
    },
    "id": "u9wqmEDT01hj",
    "outputId": "79d336b2-cb13-4799-e513-d9e76a2d6bb2"
   },
   "outputs": [
    {
     "name": "stderr",
     "output_type": "stream",
     "text": [
      "/usr/local/lib/python3.7/dist-packages/ipykernel_launcher.py:7: SettingWithCopyWarning: \n",
      "A value is trying to be set on a copy of a slice from a DataFrame.\n",
      "Try using .loc[row_indexer,col_indexer] = value instead\n",
      "\n",
      "See the caveats in the documentation: https://pandas.pydata.org/pandas-docs/stable/user_guide/indexing.html#returning-a-view-versus-a-copy\n",
      "  import sys\n"
     ]
    }
   ],
   "source": [
    "def pixels_2_image(string):\n",
    "  arr = string.split()\n",
    "  arr = np.array(arr,dtype='float')\n",
    "  arr = np.reshape(arr,(48,48,1))\n",
    "  return arr\n",
    "\n",
    "gender_df['pixels'] = gender_df['pixels'].apply(pixels_2_image)"
   ]
  },
  {
   "cell_type": "code",
   "execution_count": null,
   "metadata": {
    "colab": {
     "base_uri": "https://localhost:8080/",
     "height": 81
    },
    "id": "wqqnD4AA1rZp",
    "outputId": "bfa1f578-3957-4974-c610-fc8fd717ec08"
   },
   "outputs": [
    {
     "name": "stdout",
     "output_type": "stream",
     "text": [
      "(48, 48, 1)\n"
     ]
    },
    {
     "data": {
      "image/png": "[encoded data removed]",
      "text/plain": [
       "<PIL.Image.Image image mode=RGB size=48x48 at 0x7F1BAA57B110>"
      ]
     },
     "metadata": {
      "tags": []
     },
     "output_type": "display_data"
    }
   ],
   "source": [
    "image = gender_df['pixels'][2586]\n",
    "print(image.shape)\n",
    "cv2_imshow(image)"
   ]
  },
  {
   "cell_type": "code",
   "execution_count": null,
   "metadata": {
    "colab": {
     "base_uri": "https://localhost:8080/"
    },
    "id": "4-45VGXU1813",
    "outputId": "051b5974-b70d-46e6-803d-42c0a54d16a2"
   },
   "outputs": [
    {
     "name": "stdout",
     "output_type": "stream",
     "text": [
      "(18964,) (4741,) (18964,) (4741,)\n"
     ]
    }
   ],
   "source": [
    "# Splitting the data\n",
    "X_train,X_test,y_train,y_test = train_test_split(gender_df['pixels'],gender_df['gender'],test_size=0.2,stratify=gender_df['gender'],random_state=40)\n",
    "print(X_train.shape,X_test.shape,y_train.shape,y_test.shape)"
   ]
  },
  {
   "cell_type": "code",
   "execution_count": null,
   "metadata": {
    "colab": {
     "base_uri": "https://localhost:8080/"
    },
    "id": "zaf5WeVN2wPL",
    "outputId": "29b68e08-8ae6-4eec-9d98-706a80d39794"
   },
   "outputs": [
    {
     "name": "stdout",
     "output_type": "stream",
     "text": [
      "In train\n",
      "0 9913\n",
      "1 9051\n",
      "In test\n",
      "0 2478\n",
      "1 2263\n"
     ]
    }
   ],
   "source": [
    "# count classes in train and test dataset\n",
    "def count_unique(data):\n",
    "  un,cn = np.unique(data,return_counts=True)\n",
    "  for i in range(len(un)):\n",
    "    print(un[i],cn[i])\n",
    "\n",
    "print('In train')\n",
    "count_unique(y_train)\n",
    "print('In test')\n",
    "count_unique(y_test)"
   ]
  },
  {
   "cell_type": "markdown",
   "metadata": {
    "id": "G9IGOBnv3Ydh"
   },
   "source": [
    "### Dataset is almost balanced"
   ]
  },
  {
   "cell_type": "code",
   "execution_count": null,
   "metadata": {
    "id": "VHT2tGKd71YB"
   },
   "outputs": [],
   "source": [
    "# Normalizing\n",
    "X_train /= 255\n",
    "X_test /= 255"
   ]
  },
  {
   "cell_type": "code",
   "execution_count": null,
   "metadata": {
    "id": "GuNzcCGq9i-h"
   },
   "outputs": [],
   "source": [
    "X_train = np.array([i for i in X_train])\n",
    "X_test = np.array([i for i in X_test])"
   ]
  },
  {
   "cell_type": "code",
   "execution_count": null,
   "metadata": {
    "id": "ryFN4-5S7Hw3"
   },
   "outputs": [],
   "source": [
    "# defining some useful callbacks\n",
    "class Overfit(tf.keras.callbacks.Callback):\n",
    "  def __init__(self,patience):\n",
    "    self.patience=patience\n",
    "    self.tracker = []\n",
    "  def on_epoch_end(self,epoch,logs={}):\n",
    "    if logs.get('accuracy')-logs.get('val_accuracy')>0.01:\n",
    "      self.tracker.append(-1)\n",
    "    else:\n",
    "      self.tracker.append(1)\n",
    "    if epoch>=self.patience:\n",
    "      if self.tracker[-self.patience:]==[-1]*self.patience:\n",
    "        print(\"\\nOverfitting begins....terminating the training\")\n",
    "        self.model.stop_training=True\n",
    "\n",
    "lr_reduer = ReduceLROnPlateau(monitor = 'val_loss',patience = 4,verbose = 1,factor = 0.3, min_lr = 1e-6)\n",
    "\n",
    "callbacks = [lr_reduer,Overfit(4)]"
   ]
  },
  {
   "cell_type": "code",
   "execution_count": null,
   "metadata": {
    "colab": {
     "base_uri": "https://localhost:8080/"
    },
    "id": "RXaQ4VnN3WJN",
    "outputId": "14f71cb9-8e21-4423-d273-5d04347aa4c3"
   },
   "outputs": [
    {
     "name": "stdout",
     "output_type": "stream",
     "text": [
      "Model: \"model\"\n",
      "_________________________________________________________________\n",
      "Layer (type)                 Output Shape              Param #   \n",
      "=================================================================\n",
      "input_1 (InputLayer)         [(None, 48, 48, 1)]       0         \n",
      "_________________________________________________________________\n",
      "conv2d (Conv2D)              (None, 46, 46, 32)        320       \n",
      "_________________________________________________________________\n",
      "conv2d_1 (Conv2D)            (None, 44, 44, 64)        18496     \n",
      "_________________________________________________________________\n",
      "max_pooling2d (MaxPooling2D) (None, 22, 22, 64)        0         \n",
      "_________________________________________________________________\n",
      "batch_normalization (BatchNo (None, 22, 22, 64)        256       \n",
      "_________________________________________________________________\n",
      "activation (Activation)      (None, 22, 22, 64)        0         \n",
      "_________________________________________________________________\n",
      "conv2d_2 (Conv2D)            (None, 20, 20, 128)       73856     \n",
      "_________________________________________________________________\n",
      "conv2d_3 (Conv2D)            (None, 18, 18, 256)       295168    \n",
      "_________________________________________________________________\n",
      "max_pooling2d_1 (MaxPooling2 (None, 9, 9, 256)         0         \n",
      "_________________________________________________________________\n",
      "batch_normalization_1 (Batch (None, 9, 9, 256)         1024      \n",
      "_________________________________________________________________\n",
      "activation_1 (Activation)    (None, 9, 9, 256)         0         \n",
      "_________________________________________________________________\n",
      "conv2d_4 (Conv2D)            (None, 4, 4, 512)         1180160   \n",
      "_________________________________________________________________\n",
      "conv2d_5 (Conv2D)            (None, 2, 2, 1024)        4719616   \n",
      "_________________________________________________________________\n",
      "max_pooling2d_2 (MaxPooling2 (None, 1, 1, 1024)        0         \n",
      "_________________________________________________________________\n",
      "batch_normalization_2 (Batch (None, 1, 1, 1024)        4096      \n",
      "_________________________________________________________________\n",
      "activation_2 (Activation)    (None, 1, 1, 1024)        0         \n",
      "_________________________________________________________________\n",
      "global_average_pooling2d (Gl (None, 1024)              0         \n",
      "_________________________________________________________________\n",
      "dense (Dense)                (None, 128)               131200    \n",
      "_________________________________________________________________\n",
      "dropout (Dropout)            (None, 128)               0         \n",
      "_________________________________________________________________\n",
      "batch_normalization_3 (Batch (None, 128)               512       \n",
      "_________________________________________________________________\n",
      "activation_3 (Activation)    (None, 128)               0         \n",
      "_________________________________________________________________\n",
      "dense_1 (Dense)              (None, 1)                 129       \n",
      "=================================================================\n",
      "Total params: 6,424,833\n",
      "Trainable params: 6,421,889\n",
      "Non-trainable params: 2,944\n",
      "_________________________________________________________________\n"
     ]
    }
   ],
   "source": [
    "# model building\n",
    "def model_builder(activation,dr_rate):\n",
    "  tf.keras.backend.clear_session()\n",
    "  np.random.seed(0)\n",
    "\n",
    "  input = Input(shape=(48,48,1))\n",
    "\n",
    "  x = Conv2D(32,3,activation='relu')(input)\n",
    "  x = Conv2D(64,3)(x)\n",
    "  x = MaxPooling2D()(x)\n",
    "  x = BatchNormalization()(x)\n",
    "  x = Activation('relu')(x)\n",
    "\n",
    "\n",
    "  x = Conv2D(128,3,activation='relu')(x)\n",
    "  x = Conv2D(256,3)(x)\n",
    "  x = MaxPooling2D()(x)\n",
    "  x = BatchNormalization()(x)\n",
    "  x = Activation('relu')(x)\n",
    "\n",
    "  x = Conv2D(512,3,activation='relu',strides=(2,2))(x)\n",
    "  x = Conv2D(1024,3)(x)\n",
    "  x = MaxPooling2D()(x)\n",
    "  x = BatchNormalization()(x)\n",
    "  x = Activation('relu')(x)\n",
    "\n",
    "  x = tf.keras.layers.GlobalAveragePooling2D()(x)\n",
    "\n",
    "  x = Dense(128,kernel_initializer='he_normal')(x)\n",
    "  x = Dropout(dr_rate)(x)\n",
    "  x = BatchNormalization()(x)\n",
    "  x = Activation('relu')(x)\n",
    "\n",
    "  x = Dense(1,activation=activation,kernel_initializer='he_normal')(x)\n",
    "\n",
    "  model = Model(inputs=[input],outputs=[x])\n",
    "  return model\n",
    "\n",
    "model_gender = model_builder('sigmoid',0.8)\n",
    "model_gender.summary()"
   ]
  },
  {
   "cell_type": "code",
   "execution_count": null,
   "metadata": {
    "colab": {
     "base_uri": "https://localhost:8080/"
    },
    "id": "HGayBJKl6GJB",
    "outputId": "bcb660c7-e0d6-4aa9-d6bf-0c03388eb5de"
   },
   "outputs": [
    {
     "name": "stdout",
     "output_type": "stream",
     "text": [
      "Epoch 1/10\n",
      "  6/592 [..............................] - ETA: 35s - loss: 0.7211 - accuracy: 0.5404WARNING:tensorflow:Callback method `on_train_batch_end` is slow compared to the batch time (batch time: 0.0255s vs `on_train_batch_end` time: 0.0354s). Check your callbacks.\n",
      "592/592 [==============================] - 30s 49ms/step - loss: 0.4204 - accuracy: 0.8009 - val_loss: 0.5946 - val_accuracy: 0.6102\n",
      "Epoch 2/10\n",
      "592/592 [==============================] - 28s 48ms/step - loss: 0.3022 - accuracy: 0.8684 - val_loss: 0.2721 - val_accuracy: 0.8844\n",
      "Epoch 3/10\n",
      "592/592 [==============================] - 28s 48ms/step - loss: 0.2725 - accuracy: 0.8834 - val_loss: 0.3155 - val_accuracy: 0.8753\n",
      "Epoch 4/10\n",
      "592/592 [==============================] - 28s 48ms/step - loss: 0.2410 - accuracy: 0.8982 - val_loss: 0.3023 - val_accuracy: 0.8895\n",
      "Epoch 5/10\n",
      "592/592 [==============================] - 28s 48ms/step - loss: 0.2305 - accuracy: 0.9039 - val_loss: 0.2551 - val_accuracy: 0.8937\n",
      "Epoch 6/10\n",
      "592/592 [==============================] - 28s 48ms/step - loss: 0.2058 - accuracy: 0.9164 - val_loss: 0.3399 - val_accuracy: 0.8758\n",
      "Epoch 7/10\n",
      "592/592 [==============================] - 28s 48ms/step - loss: 0.1944 - accuracy: 0.9213 - val_loss: 0.2444 - val_accuracy: 0.8914\n",
      "Epoch 8/10\n",
      "592/592 [==============================] - 28s 48ms/step - loss: 0.1647 - accuracy: 0.9375 - val_loss: 0.2375 - val_accuracy: 0.9013\n",
      "\n",
      "Overfitting begins....terminating the training\n"
     ]
    }
   ],
   "source": [
    "batch_size=32\n",
    "epochs = 10\n",
    "optimizer = tf.keras.optimizers.Adam()\n",
    "model_gender.compile(loss='binary_crossentropy',optimizer=optimizer,metrics=['accuracy'])\n",
    "history = model_gender.fit(X_train,y_train,\n",
    "          validation_data=(X_test,y_test),\n",
    "          steps_per_epoch=len(y_train)//batch_size,\n",
    "          epochs=epochs,\n",
    "          callbacks=callbacks)"
   ]
  },
  {
   "cell_type": "code",
   "execution_count": null,
   "metadata": {
    "colab": {
     "base_uri": "https://localhost:8080/",
     "height": 572
    },
    "id": "FmHSmYLY9cba",
    "outputId": "bfe1dced-105e-424b-dd22-b4fe37ee0f9b"
   },
   "outputs": [
    {
     "data": {
      "image/png": "[encoded data removed]",
      "text/plain": [
       "<Figure size 432x288 with 1 Axes>"
      ]
     },
     "metadata": {
      "needs_background": "light",
      "tags": []
     },
     "output_type": "display_data"
    },
    {
     "data": {
      "image/png": "[encoded data removed]",
      "text/plain": [
       "<Figure size 432x288 with 1 Axes>"
      ]
     },
     "metadata": {
      "needs_background": "light",
      "tags": []
     },
     "output_type": "display_data"
    }
   ],
   "source": [
    "plt.plot(history.history['accuracy'])\n",
    "plt.plot(history.history['val_accuracy'])\n",
    "plt.title('model accuracy')\n",
    "plt.ylabel('accuracy')\n",
    "plt.xlabel('epoch')\n",
    "plt.legend(['train', 'test'], loc='upper left')\n",
    "plt.show()\n",
    "# summarize history for loss\n",
    "plt.plot(history.history['loss'])\n",
    "plt.plot(history.history['val_loss'])\n",
    "plt.title('model loss')\n",
    "plt.ylabel('loss')\n",
    "plt.xlabel('epoch')\n",
    "plt.legend(['train', 'test'], loc='upper left')\n",
    "plt.show()"
   ]
  },
  {
   "cell_type": "code",
   "execution_count": null,
   "metadata": {
    "id": "1Zdp2mpFDHy4"
   },
   "outputs": [],
   "source": [
    "def gender_predict(image_48481):\n",
    "  cv2_imshow(image_48481*255)\n",
    "  pred = model_gender.predict(np.array([image_48481]))[0]\n",
    "  if pred<0.5:\n",
    "    print('Male')\n",
    "  else:\n",
    "    print('Female')"
   ]
  },
  {
   "cell_type": "code",
   "execution_count": null,
   "metadata": {
    "colab": {
     "base_uri": "https://localhost:8080/",
     "height": 595
    },
    "id": "5cKi-i8MpcSC",
    "outputId": "8c859eed-dbb4-464a-f50a-e476b6d767ba"
   },
   "outputs": [
    {
     "data": {
      "image/png": "[encoded data removed]",
      "text/plain": [
       "<PIL.Image.Image image mode=RGB size=48x48 at 0x7F1B0341F110>"
      ]
     },
     "metadata": {
      "tags": []
     },
     "output_type": "display_data"
    },
    {
     "name": "stdout",
     "output_type": "stream",
     "text": [
      "Male\n"
     ]
    },
    {
     "data": {
      "image/png": "[encoded data removed]",
      "text/plain": [
       "<PIL.Image.Image image mode=RGB size=48x48 at 0x7F1B035F0B90>"
      ]
     },
     "metadata": {
      "tags": []
     },
     "output_type": "display_data"
    },
    {
     "name": "stdout",
     "output_type": "stream",
     "text": [
      "Male\n"
     ]
    },
    {
     "data": {
      "image/png": "[encoded data removed]",
      "text/plain": [
       "<PIL.Image.Image image mode=RGB size=48x48 at 0x7F1BA00516D0>"
      ]
     },
     "metadata": {
      "tags": []
     },
     "output_type": "display_data"
    },
    {
     "name": "stdout",
     "output_type": "stream",
     "text": [
      "Male\n"
     ]
    },
    {
     "data": {
      "image/png": "[encoded data removed]",
      "text/plain": [
       "<PIL.Image.Image image mode=RGB size=48x48 at 0x7F1B03F68A90>"
      ]
     },
     "metadata": {
      "tags": []
     },
     "output_type": "display_data"
    },
    {
     "name": "stdout",
     "output_type": "stream",
     "text": [
      "Female\n"
     ]
    },
    {
     "data": {
      "image/png": "[encoded data removed]",
      "text/plain": [
       "<PIL.Image.Image image mode=RGB size=48x48 at 0x7F1AEDDDDF10>"
      ]
     },
     "metadata": {
      "tags": []
     },
     "output_type": "display_data"
    },
    {
     "name": "stdout",
     "output_type": "stream",
     "text": [
      "Female\n"
     ]
    },
    {
     "data": {
      "image/png": "[encoded data removed]",
      "text/plain": [
       "<PIL.Image.Image image mode=RGB size=48x48 at 0x7F1B0234BA10>"
      ]
     },
     "metadata": {
      "tags": []
     },
     "output_type": "display_data"
    },
    {
     "name": "stdout",
     "output_type": "stream",
     "text": [
      "Male\n"
     ]
    },
    {
     "data": {
      "image/png": "[encoded data removed]",
      "text/plain": [
       "<PIL.Image.Image image mode=RGB size=48x48 at 0x7F1AED485B50>"
      ]
     },
     "metadata": {
      "tags": []
     },
     "output_type": "display_data"
    },
    {
     "name": "stdout",
     "output_type": "stream",
     "text": [
      "Male\n"
     ]
    },
    {
     "data": {
      "image/png": "[encoded data removed]",
      "text/plain": [
       "<PIL.Image.Image image mode=RGB size=48x48 at 0x7F1AFEBEEC10>"
      ]
     },
     "metadata": {
      "tags": []
     },
     "output_type": "display_data"
    },
    {
     "name": "stdout",
     "output_type": "stream",
     "text": [
      "Female\n"
     ]
    },
    {
     "data": {
      "image/png": "[encoded data removed]",
      "text/plain": [
       "<PIL.Image.Image image mode=RGB size=48x48 at 0x7F1AFEEF5FD0>"
      ]
     },
     "metadata": {
      "tags": []
     },
     "output_type": "display_data"
    },
    {
     "name": "stdout",
     "output_type": "stream",
     "text": [
      "Male\n"
     ]
    }
   ],
   "source": [
    "arr = [10,100,200,300,500,1000,2000,2500,3500]\n",
    "for i in arr:\n",
    "  gender_predict(X_test[i])"
   ]
  },
  {
   "cell_type": "markdown",
   "metadata": {
    "id": "nLHA762uoHP_"
   },
   "source": [
    "# Age model"
   ]
  },
  {
   "cell_type": "code",
   "execution_count": null,
   "metadata": {
    "colab": {
     "base_uri": "https://localhost:8080/",
     "height": 347
    },
    "id": "CCZyohIHDH6E",
    "outputId": "3b319f87-cd80-4ff5-a1bd-3c0e11976c02"
   },
   "outputs": [
    {
     "name": "stderr",
     "output_type": "stream",
     "text": [
      "/usr/local/lib/python3.7/dist-packages/seaborn/distributions.py:2557: FutureWarning: `distplot` is a deprecated function and will be removed in a future version. Please adapt your code to use either `displot` (a figure-level function with similar flexibility) or `histplot` (an axes-level function for histograms).\n",
      "  warnings.warn(msg, FutureWarning)\n"
     ]
    },
    {
     "data": {
      "text/plain": [
       "<matplotlib.axes._subplots.AxesSubplot at 0x7f1b03ffd7d0>"
      ]
     },
     "execution_count": 129,
     "metadata": {
      "tags": []
     },
     "output_type": "execute_result"
    },
    {
     "data": {
      "image/png": "[encoded data removed]",
      "text/plain": [
       "<Figure size 432x288 with 1 Axes>"
      ]
     },
     "metadata": {
      "needs_background": "light",
      "tags": []
     },
     "output_type": "display_data"
    }
   ],
   "source": [
    "age_df = df[['age','pixels']]\n",
    "sns.distplot(age_df['age'],kde=True)"
   ]
  },
  {
   "cell_type": "code",
   "execution_count": null,
   "metadata": {
    "colab": {
     "base_uri": "https://localhost:8080/"
    },
    "id": "OuHP3c_PDqmR",
    "outputId": "789a3590-f7a5-40cb-dbca-9ac00bb389b2"
   },
   "outputs": [
    {
     "name": "stderr",
     "output_type": "stream",
     "text": [
      "/usr/local/lib/python3.7/dist-packages/ipykernel_launcher.py:1: SettingWithCopyWarning: \n",
      "A value is trying to be set on a copy of a slice from a DataFrame.\n",
      "Try using .loc[row_indexer,col_indexer] = value instead\n",
      "\n",
      "See the caveats in the documentation: https://pandas.pydata.org/pandas-docs/stable/user_guide/indexing.html#returning-a-view-versus-a-copy\n",
      "  \"\"\"Entry point for launching an IPython kernel.\n"
     ]
    }
   ],
   "source": [
    "age_df['pixels'] = age_df['pixels'].apply(pixels_2_image)"
   ]
  },
  {
   "cell_type": "code",
   "execution_count": null,
   "metadata": {
    "colab": {
     "base_uri": "https://localhost:8080/"
    },
    "id": "Wz9Rze8sDqqW",
    "outputId": "00f38252-bed0-463b-a80d-721731fe50c1"
   },
   "outputs": [
    {
     "name": "stdout",
     "output_type": "stream",
     "text": [
      "(18964,) (4741,) (18964,) (4741,)\n"
     ]
    }
   ],
   "source": [
    "# Splitting the data\n",
    "X_train,X_test,y_train,y_test = train_test_split(age_df['pixels'],age_df['age'],test_size=0.2,stratify=gender_df['gender'],random_state=40)\n",
    "print(X_train.shape,X_test.shape,y_train.shape,y_test.shape)"
   ]
  },
  {
   "cell_type": "code",
   "execution_count": null,
   "metadata": {
    "id": "Sm87sKVnDqub"
   },
   "outputs": [],
   "source": [
    "# Normalizing\n",
    "X_train /= 255\n",
    "X_test /= 255\n",
    "X_train = np.array([i for i in X_train])\n",
    "X_test = np.array([i for i in X_test])"
   ]
  },
  {
   "cell_type": "code",
   "execution_count": null,
   "metadata": {
    "id": "pD3J-TcMKtzl"
   },
   "outputs": [],
   "source": [
    "# defining some useful callbacks\n",
    "class Overfit_for_regression(tf.keras.callbacks.Callback):\n",
    "  def __init__(self,patience):\n",
    "    self.patience=patience\n",
    "    self.tracker = []\n",
    "  def on_epoch_end(self,epoch,logs={}):\n",
    "    if logs.get('mean_absolute_error')-logs.get('val_mean_absolute_error')<-1:\n",
    "      self.tracker.append(-1)\n",
    "    else:\n",
    "      self.tracker.append(1)\n",
    "    if epoch>=self.patience:\n",
    "      if self.tracker[-self.patience:]==[-1]*self.patience:\n",
    "        print(\"\\nOverfitting begins....terminating the training\")\n",
    "        self.model.stop_training=True"
   ]
  },
  {
   "cell_type": "code",
   "execution_count": null,
   "metadata": {
    "colab": {
     "base_uri": "https://localhost:8080/"
    },
    "id": "l0HGgQbuDrB-",
    "outputId": "ecc44a89-e757-4f07-d665-b026a9036c7e"
   },
   "outputs": [
    {
     "name": "stdout",
     "output_type": "stream",
     "text": [
      "Model: \"model\"\n",
      "_________________________________________________________________\n",
      "Layer (type)                 Output Shape              Param #   \n",
      "=================================================================\n",
      "input_1 (InputLayer)         [(None, 48, 48, 1)]       0         \n",
      "_________________________________________________________________\n",
      "conv2d (Conv2D)              (None, 46, 46, 32)        320       \n",
      "_________________________________________________________________\n",
      "conv2d_1 (Conv2D)            (None, 44, 44, 64)        18496     \n",
      "_________________________________________________________________\n",
      "max_pooling2d (MaxPooling2D) (None, 22, 22, 64)        0         \n",
      "_________________________________________________________________\n",
      "batch_normalization (BatchNo (None, 22, 22, 64)        256       \n",
      "_________________________________________________________________\n",
      "activation (Activation)      (None, 22, 22, 64)        0         \n",
      "_________________________________________________________________\n",
      "conv2d_2 (Conv2D)            (None, 20, 20, 128)       73856     \n",
      "_________________________________________________________________\n",
      "conv2d_3 (Conv2D)            (None, 18, 18, 256)       295168    \n",
      "_________________________________________________________________\n",
      "max_pooling2d_1 (MaxPooling2 (None, 9, 9, 256)         0         \n",
      "_________________________________________________________________\n",
      "batch_normalization_1 (Batch (None, 9, 9, 256)         1024      \n",
      "_________________________________________________________________\n",
      "activation_1 (Activation)    (None, 9, 9, 256)         0         \n",
      "_________________________________________________________________\n",
      "conv2d_4 (Conv2D)            (None, 4, 4, 512)         1180160   \n",
      "_________________________________________________________________\n",
      "conv2d_5 (Conv2D)            (None, 2, 2, 1024)        4719616   \n",
      "_________________________________________________________________\n",
      "max_pooling2d_2 (MaxPooling2 (None, 1, 1, 1024)        0         \n",
      "_________________________________________________________________\n",
      "batch_normalization_2 (Batch (None, 1, 1, 1024)        4096      \n",
      "_________________________________________________________________\n",
      "activation_2 (Activation)    (None, 1, 1, 1024)        0         \n",
      "_________________________________________________________________\n",
      "flatten (Flatten)            (None, 1024)              0         \n",
      "_________________________________________________________________\n",
      "dense (Dense)                (None, 128)               131200    \n",
      "_________________________________________________________________\n",
      "dropout (Dropout)            (None, 128)               0         \n",
      "_________________________________________________________________\n",
      "batch_normalization_3 (Batch (None, 128)               512       \n",
      "_________________________________________________________________\n",
      "activation_3 (Activation)    (None, 128)               0         \n",
      "_________________________________________________________________\n",
      "dense_1 (Dense)              (None, 1)                 129       \n",
      "=================================================================\n",
      "Total params: 6,424,833\n",
      "Trainable params: 6,421,889\n",
      "Non-trainable params: 2,944\n",
      "_________________________________________________________________\n"
     ]
    }
   ],
   "source": [
    "# model building\n",
    "def model_builder_reg(activation,dr_rate):\n",
    "  tf.keras.backend.clear_session()\n",
    "  np.random.seed(0)\n",
    "\n",
    "  input = Input(shape=(48,48,1))\n",
    "\n",
    "  x = Conv2D(32,3,activation='relu')(input)\n",
    "  x = Conv2D(64,3)(x)\n",
    "  x = MaxPooling2D()(x)\n",
    "  x = BatchNormalization()(x)\n",
    "  x = Activation('relu')(x)\n",
    "\n",
    "  \n",
    "  x = Conv2D(128,3,activation='relu')(x)\n",
    "  x = Conv2D(256,3)(x)\n",
    "  x = MaxPooling2D()(x)\n",
    "  x = BatchNormalization()(x)\n",
    "  x = Activation('relu')(x)\n",
    "\n",
    "  x = Conv2D(512,3,activation='relu',strides=(2,2))(x)\n",
    "  x = Conv2D(1024,3)(x)\n",
    "  x = MaxPooling2D()(x)\n",
    "  x = BatchNormalization()(x)\n",
    "  x = Activation('relu')(x)\n",
    "  \n",
    "  x = Flatten()(x)\n",
    "\n",
    "  x = Dense(128,kernel_initializer='he_normal')(x)\n",
    "  x = Dropout(dr_rate)(x)\n",
    "  x = BatchNormalization()(x)\n",
    "  x = Activation('relu')(x)\n",
    "\n",
    "  x = Dense(1,activation=activation,kernel_initializer='he_normal')(x)\n",
    "\n",
    "  model = Model(inputs=[input],outputs=[x])\n",
    "  return model\n",
    "\n",
    "model_age = model_builder_reg('linear',0.2)\n",
    "model_age.summary()"
   ]
  },
  {
   "cell_type": "code",
   "execution_count": null,
   "metadata": {
    "colab": {
     "base_uri": "https://localhost:8080/"
    },
    "id": "OW5KseboF36O",
    "outputId": "138f5077-d307-442f-f563-7cf6a97a4544"
   },
   "outputs": [
    {
     "name": "stdout",
     "output_type": "stream",
     "text": [
      "Epoch 1/20\n",
      "   5/1185 [..............................] - ETA: 51s - loss: 1857.8103 - mean_absolute_error: 36.5213WARNING:tensorflow:Callback method `on_train_batch_end` is slow compared to the batch time (batch time: 0.0181s vs `on_train_batch_end` time: 0.0256s). Check your callbacks.\n",
      "1185/1185 [==============================] - 42s 34ms/step - loss: 621.7462 - mean_absolute_error: 20.0216 - val_loss: 232.0508 - val_mean_absolute_error: 11.9589\n",
      "Epoch 2/20\n",
      "1185/1185 [==============================] - 40s 34ms/step - loss: 121.0172 - mean_absolute_error: 8.2280 - val_loss: 130.5042 - val_mean_absolute_error: 8.6198\n",
      "Epoch 3/20\n",
      "1185/1185 [==============================] - 40s 34ms/step - loss: 96.0618 - mean_absolute_error: 7.3655 - val_loss: 87.9449 - val_mean_absolute_error: 6.9558\n",
      "Epoch 4/20\n",
      "1185/1185 [==============================] - 40s 34ms/step - loss: 81.0194 - mean_absolute_error: 6.8257 - val_loss: 92.5623 - val_mean_absolute_error: 7.3290\n",
      "Epoch 5/20\n",
      "1185/1185 [==============================] - 40s 34ms/step - loss: 71.5584 - mean_absolute_error: 6.4143 - val_loss: 104.6969 - val_mean_absolute_error: 7.7253\n",
      "Epoch 6/20\n",
      "1185/1185 [==============================] - 40s 33ms/step - loss: 61.3391 - mean_absolute_error: 5.9956 - val_loss: 133.1557 - val_mean_absolute_error: 8.7168\n",
      "Epoch 7/20\n",
      "1185/1185 [==============================] - 40s 33ms/step - loss: 53.7803 - mean_absolute_error: 5.6147 - val_loss: 85.4267 - val_mean_absolute_error: 7.0060\n",
      "\n",
      "Overfitting begins....terminating the training\n"
     ]
    }
   ],
   "source": [
    "batch_size=16\n",
    "epochs = 20\n",
    "optimizer = tf.keras.optimizers.Adam(0.0003)\n",
    "model_age.compile(loss='mse',optimizer=optimizer,metrics=[tf.keras.metrics.mean_absolute_error])\n",
    "callbacks = [lr_reduer,Overfit_for_regression(3)]\n",
    "history = model_age.fit(X_train,y_train,\n",
    "          validation_data=(X_test,y_test),\n",
    "          steps_per_epoch=len(y_train)//batch_size,\n",
    "          epochs=epochs,\n",
    "          callbacks=callbacks)"
   ]
  },
  {
   "cell_type": "code",
   "execution_count": null,
   "metadata": {
    "colab": {
     "base_uri": "https://localhost:8080/",
     "height": 572
    },
    "id": "xe7At3V_QxSe",
    "outputId": "09f90410-f2f0-426c-d823-479e1e27a34d"
   },
   "outputs": [
    {
     "data": {
      "image/png": "[encoded data removed]",
      "text/plain": [
       "<Figure size 432x288 with 1 Axes>"
      ]
     },
     "metadata": {
      "needs_background": "light",
      "tags": []
     },
     "output_type": "display_data"
    },
    {
     "data": {
      "image/png": "[encoded data removed]",
      "text/plain": [
       "<Figure size 432x288 with 1 Axes>"
      ]
     },
     "metadata": {
      "needs_background": "light",
      "tags": []
     },
     "output_type": "display_data"
    }
   ],
   "source": [
    "plt.plot(history.history['loss'])\n",
    "plt.plot(history.history['val_loss'])\n",
    "plt.title('model loss')\n",
    "plt.ylabel('loss')\n",
    "plt.xlabel('epoch')\n",
    "plt.legend(['train', 'test'], loc='upper left')\n",
    "plt.show()\n",
    "# summarize history for loss\n",
    "plt.plot(history.history['mean_absolute_error'])\n",
    "plt.plot(history.history['val_mean_absolute_error'])\n",
    "plt.title('model mean_absolute_error')\n",
    "plt.ylabel('mean_absolute_error')\n",
    "plt.xlabel('epoch')\n",
    "plt.legend(['train', 'test'], loc='upper left')\n",
    "plt.show()"
   ]
  },
  {
   "cell_type": "code",
   "execution_count": null,
   "metadata": {
    "id": "CqnYIUFErOhB"
   },
   "outputs": [],
   "source": [
    "def age_predict(image_48481):\n",
    "  cv2_imshow(image_48481*255)\n",
    "  pred = model_age.predict(np.array([image_48481]))[0][0]\n",
    "  print(int(abs(pred)))"
   ]
  },
  {
   "cell_type": "code",
   "execution_count": null,
   "metadata": {
    "colab": {
     "base_uri": "https://localhost:8080/",
     "height": 595
    },
    "id": "cE2ncD8Brr7j",
    "outputId": "215763a6-c203-4a49-9111-876ebfd89f5d"
   },
   "outputs": [
    {
     "data": {
      "image/png": "[encoded data removed]",
      "text/plain": [
       "<PIL.Image.Image image mode=RGB size=48x48 at 0x7F1AFF074E50>"
      ]
     },
     "metadata": {
      "tags": []
     },
     "output_type": "display_data"
    },
    {
     "name": "stdout",
     "output_type": "stream",
     "text": [
      "4\n"
     ]
    },
    {
     "data": {
      "image/png": "[encoded data removed]",
      "text/plain": [
       "<PIL.Image.Image image mode=RGB size=48x48 at 0x7F1AECA7F390>"
      ]
     },
     "metadata": {
      "tags": []
     },
     "output_type": "display_data"
    },
    {
     "name": "stdout",
     "output_type": "stream",
     "text": [
      "57\n"
     ]
    },
    {
     "data": {
      "image/png": "[encoded data removed]",
      "text/plain": [
       "<PIL.Image.Image image mode=RGB size=48x48 at 0x7F1AFECE66D0>"
      ]
     },
     "metadata": {
      "tags": []
     },
     "output_type": "display_data"
    },
    {
     "name": "stdout",
     "output_type": "stream",
     "text": [
      "35\n"
     ]
    },
    {
     "data": {
      "image/png": "[encoded data removed]",
      "text/plain": [
       "<PIL.Image.Image image mode=RGB size=48x48 at 0x7F1AF290DC50>"
      ]
     },
     "metadata": {
      "tags": []
     },
     "output_type": "display_data"
    },
    {
     "name": "stdout",
     "output_type": "stream",
     "text": [
      "25\n"
     ]
    },
    {
     "data": {
      "image/png": "[encoded data removed]",
      "text/plain": [
       "<PIL.Image.Image image mode=RGB size=48x48 at 0x7F1B03648B10>"
      ]
     },
     "metadata": {
      "tags": []
     },
     "output_type": "display_data"
    },
    {
     "name": "stdout",
     "output_type": "stream",
     "text": [
      "32\n"
     ]
    },
    {
     "data": {
      "image/png": "[encoded data removed]",
      "text/plain": [
       "<PIL.Image.Image image mode=RGB size=48x48 at 0x7F1AF2914390>"
      ]
     },
     "metadata": {
      "tags": []
     },
     "output_type": "display_data"
    },
    {
     "name": "stdout",
     "output_type": "stream",
     "text": [
      "54\n"
     ]
    },
    {
     "data": {
      "image/png": "[encoded data removed]",
      "text/plain": [
       "<PIL.Image.Image image mode=RGB size=48x48 at 0x7F1AF2914E50>"
      ]
     },
     "metadata": {
      "tags": []
     },
     "output_type": "display_data"
    },
    {
     "name": "stdout",
     "output_type": "stream",
     "text": [
      "44\n"
     ]
    },
    {
     "data": {
      "image/png": "[encoded data removed]",
      "text/plain": [
       "<PIL.Image.Image image mode=RGB size=48x48 at 0x7F1B6148F6D0>"
      ]
     },
     "metadata": {
      "tags": []
     },
     "output_type": "display_data"
    },
    {
     "name": "stdout",
     "output_type": "stream",
     "text": [
      "29\n"
     ]
    },
    {
     "data": {
      "image/png": "[encoded data removed]",
      "text/plain": [
       "<PIL.Image.Image image mode=RGB size=48x48 at 0x7F1B612B2090>"
      ]
     },
     "metadata": {
      "tags": []
     },
     "output_type": "display_data"
    },
    {
     "name": "stdout",
     "output_type": "stream",
     "text": [
      "37\n"
     ]
    }
   ],
   "source": [
    "arr = [10,100,200,300,500,1000,2000,2500,3500]\n",
    "for i in arr:\n",
    "  age_predict(X_test[i])"
   ]
  },
  {
   "cell_type": "code",
   "execution_count": null,
   "metadata": {
    "colab": {
     "base_uri": "https://localhost:8080/"
    },
    "id": "_f_7uEOFrvgy",
    "outputId": "c4db518e-b773-49fd-876a-6e91247b64f4"
   },
   "outputs": [
    {
     "name": "stdout",
     "output_type": "stream",
     "text": [
      "Saved model to disk\n",
      "Saved model to disk\n"
     ]
    }
   ],
   "source": [
    "os.chdir('drive/MyDrive')\n",
    "model_gender.save('best_model_gender.h5')\n",
    "print('Saved model to disk')\n",
    "model_age.save('best_model_age.h5')\n",
    "print('Saved model to disk')"
   ]
  }
 ],
 "metadata": {
  "accelerator": "GPU",
  "colab": {
   "collapsed_sections": [],
   "name": "gender.ipynb",
   "provenance": []
  },
  "kernelspec": {
   "display_name": "Python 3",
   "language": "python",
   "name": "python3"
  },
  "language_info": {
   "codemirror_mode": {
    "name": "ipython",
    "version": 3
   },
   "file_extension": ".py",
   "mimetype": "text/x-python",
   "name": "python",
   "nbconvert_exporter": "python",
   "pygments_lexer": "ipython3",
   "version": "3.6.5"
  }
 },
 "nbformat": 4,
 "nbformat_minor": 1
}
